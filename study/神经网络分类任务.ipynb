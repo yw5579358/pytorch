{
 "cells": [
  {
   "cell_type": "markdown",
   "source": [
    "Mnist分类任务\n"
   ],
   "metadata": {
    "collapsed": false
   }
  },
  {
   "cell_type": "code",
   "source": [
    "import torch\n",
    "\n",
    "print(torch.__version__)"
   ],
   "metadata": {
    "collapsed": false,
    "ExecuteTime": {
     "end_time": "2025-04-03T10:09:10.414068Z",
     "start_time": "2025-04-03T10:09:10.410123Z"
    }
   },
   "outputs": [
    {
     "name": "stdout",
     "output_type": "stream",
     "text": [
      "2.6.0+cpu\n"
     ]
    }
   ],
   "execution_count": 70
  },
  {
   "metadata": {
    "ExecuteTime": {
     "end_time": "2025-04-03T10:09:10.564277Z",
     "start_time": "2025-04-03T10:09:10.558400Z"
    }
   },
   "cell_type": "code",
   "source": [
    "#已经下载完，不需要了\n",
    "from pathlib import Path\n",
    "import requests\n",
    "\n",
    "DATA_PATH = Path(\"data\")\n",
    "PATH = DATA_PATH / \"mnist\"\n",
    "\n",
    "PATH.mkdir(parents=True, exist_ok=True)\n",
    "\n",
    "URL = \"http://deeplearning.net/data/mnist/\"\n",
    "FILENAME = \"mnist.pkl.gz\"\n",
    "\n",
    "if not (PATH / FILENAME).exists():\n",
    "    content = requests.get(URL + FILENAME).content\n",
    "    (PATH / FILENAME).open(\"wb\").write(content)"
   ],
   "outputs": [],
   "execution_count": 71
  },
  {
   "metadata": {
    "ExecuteTime": {
     "end_time": "2025-04-03T10:09:11.325488Z",
     "start_time": "2025-04-03T10:09:10.581729Z"
    }
   },
   "cell_type": "code",
   "source": [
    "import pickle\n",
    "import gzip\n",
    "\n",
    "# as_posix转换为字符串，pickle.load 加载数据，指定编码 \n",
    "with gzip.open((PATH / FILENAME).as_posix(), \"rb\") as f:\n",
    "    ((x_train, y_train), (x_valid, y_valid), _) = pickle.load(f, encoding=\"latin-1\")"
   ],
   "outputs": [],
   "execution_count": 72
  },
  {
   "cell_type": "code",
   "source": [
    "from matplotlib import pyplot as plt\n",
    "import numpy as np\n",
    "\n",
    "plt.imshow(x_train[0].reshape((28, 28)), cmap=\"gray\")\n",
    "plt.show()\n",
    "print(y_train[0])"
   ],
   "metadata": {
    "collapsed": false,
    "ExecuteTime": {
     "end_time": "2025-04-03T10:09:11.544331Z",
     "start_time": "2025-04-03T10:09:11.327496Z"
    }
   },
   "outputs": [
    {
     "data": {
      "text/plain": [
       "<Figure size 640x480 with 1 Axes>"
      ],
      "image/png": "[encoded data removed]"
     },
     "metadata": {},
     "output_type": "display_data"
    },
    {
     "name": "stdout",
     "output_type": "stream",
     "text": [
      "5\n"
     ]
    }
   ],
   "execution_count": 73
  },
  {
   "metadata": {},
   "cell_type": "markdown",
   "source": "![4](img/4.png) "
  },
  {
   "metadata": {},
   "cell_type": "markdown",
   "source": "![5](img/5.png) "
  },
  {
   "metadata": {
    "ExecuteTime": {
     "end_time": "2025-04-03T10:09:11.753814Z",
     "start_time": "2025-04-03T10:09:11.546338Z"
    }
   },
   "cell_type": "code",
   "source": [
    "#神经网络中需要将数据转换为tensor后才能参与后续建模训练\n",
    "import torch\n",
    "\n",
    "x_train, y_train, x_valid, y_valid = map(\n",
    "    torch.tensor, (x_train, y_train, x_valid, y_valid)\n",
    ")\n",
    "print(y_train[0])"
   ],
   "outputs": [
    {
     "name": "stdout",
     "output_type": "stream",
     "text": [
      "tensor(5)\n"
     ]
    }
   ],
   "execution_count": 74
  },
  {
   "metadata": {
    "ExecuteTime": {
     "end_time": "2025-04-03T10:09:11.763329Z",
     "start_time": "2025-04-03T10:09:11.755823Z"
    }
   },
   "cell_type": "code",
   "source": [
    "n, c = x_train.shape\n",
    "print(n, c)\n",
    "print(x_train)\n",
    "print(y_train)\n",
    "print(x_train.shape)\n",
    "print(y_train.min(), y_train.max())"
   ],
   "outputs": [
    {
     "name": "stdout",
     "output_type": "stream",
     "text": [
      "50000 784\n",
      "tensor([[0., 0., 0.,  ..., 0., 0., 0.],\n",
      "        [0., 0., 0.,  ..., 0., 0., 0.],\n",
      "        [0., 0., 0.,  ..., 0., 0., 0.],\n",
      "        ...,\n",
      "        [0., 0., 0.,  ..., 0., 0., 0.],\n",
      "        [0., 0., 0.,  ..., 0., 0., 0.],\n",
      "        [0., 0., 0.,  ..., 0., 0., 0.]])\n",
      "tensor([5, 0, 4,  ..., 8, 4, 8])\n",
      "torch.Size([50000, 784])\n",
      "tensor(0) tensor(9)\n"
     ]
    }
   ],
   "execution_count": 75
  },
  {
   "metadata": {},
   "cell_type": "markdown",
   "source": [
    "一般情况，如果模型有可学习的参数，使用nn.module,其它情况下一般使用nn.functional更简单一些<br/>\n",
    "下面为最简单的计算损失的一个案例 使用wx+b"
   ]
  },
  {
   "metadata": {
    "ExecuteTime": {
     "end_time": "2025-04-03T10:09:11.769623Z",
     "start_time": "2025-04-03T10:09:11.764335Z"
    }
   },
   "cell_type": "code",
   "source": [
    "import torch.nn.functional as F\n",
    "\n",
    "loss_func = F.cross_entropy\n",
    "\n",
    "\n",
    "# y=wx+b\n",
    "def model(xb):\n",
    "    return xb.mm(weights) + bias"
   ],
   "outputs": [],
   "execution_count": 76
  },
  {
   "metadata": {
    "ExecuteTime": {
     "end_time": "2025-04-03T10:09:11.779932Z",
     "start_time": "2025-04-03T10:09:11.770629Z"
    }
   },
   "cell_type": "code",
   "source": [
    "bs = 64\n",
    "xb = x_train[0:bs]\n",
    "yb = y_train[0:bs]\n",
    "#28*28 的图片展开 784，最终输出类别0-9 10 requires_grad True 表示该张良需要被追踪，后续会自动进行学习更新\n",
    "weights = torch.randn([784, 10], dtype=torch.float, requires_grad=True)\n",
    "#偏置\n",
    "bias = torch.zeros(10, requires_grad=True)\n",
    "\n",
    "print(loss_func(model(xb), yb))"
   ],
   "outputs": [
    {
     "name": "stdout",
     "output_type": "stream",
     "text": [
      "tensor(11.2014, grad_fn=<NllLossBackward0>)\n"
     ]
    }
   ],
   "execution_count": 77
  },
  {
   "metadata": {},
   "cell_type": "markdown",
   "source": [
    "创建一个model来更简化代码\n",
    "- 必须继承nn.Module并且构造函数调用nn.Module的构造函数\n",
    "- 无需编写反向传播函数,nn.MOdule中能够利用autograd自动实现反向传播\n",
    "- Module中的科学系参数可以通过named_parameters()或parameters()返回迭代器"
   ]
  },
  {
   "metadata": {
    "ExecuteTime": {
     "end_time": "2025-04-03T10:09:11.785865Z",
     "start_time": "2025-04-03T10:09:11.780938Z"
    }
   },
   "cell_type": "code",
   "source": [
    "from torch import nn\n",
    "\n",
    "\n",
    "class Net(nn.Module):\n",
    "    def __init__(self):\n",
    "        super().__init__()\n",
    "        #全连接之间的隐层，b偏置会自动带上，不需要手动传递\n",
    "        self.hidden1 = nn.Linear(784, 128)\n",
    "        #最终是要10分类，起始是基于图片的大小决定，所以除784开始和10结尾中间可以任意定义\n",
    "        self.hidden2 = nn.Linear(128, 256)\n",
    "        self.out = nn.Linear(256, 10)\n",
    "\n",
    "    #编写前向传播代码\n",
    "    def forward(self, x):\n",
    "        #F.relu激活函数，relu相对sigmoid可以避免梯度消失的现象,同时可以引入非线性，使网络学习到更复杂的数据模式\n",
    "        x = F.relu(self.hidden1(x))\n",
    "        x = F.relu(self.hidden2(x))\n",
    "        x = self.out(x)\n",
    "        return x"
   ],
   "outputs": [],
   "execution_count": 78
  },
  {
   "metadata": {
    "ExecuteTime": {
     "end_time": "2025-04-03T10:09:11.795873Z",
     "start_time": "2025-04-03T10:09:11.786873Z"
    }
   },
   "cell_type": "code",
   "source": [
    "#输出结果可以看到包含了偏置 bias\n",
    "net = Net()\n",
    "print(net)"
   ],
   "outputs": [
    {
     "name": "stdout",
     "output_type": "stream",
     "text": [
      "Net(\n",
      "  (hidden1): Linear(in_features=784, out_features=128, bias=True)\n",
      "  (hidden2): Linear(in_features=128, out_features=256, bias=True)\n",
      "  (out): Linear(in_features=256, out_features=10, bias=True)\n",
      ")\n"
     ]
    }
   ],
   "execution_count": 79
  },
  {
   "metadata": {
    "ExecuteTime": {
     "end_time": "2025-04-03T10:09:11.808715Z",
     "start_time": "2025-04-03T10:09:11.796873Z"
    }
   },
   "cell_type": "code",
   "source": [
    "#查看定义好的初始化后的权重以及偏置\n",
    "for name, parameter in net.named_parameters():\n",
    "    print(name, parameter, parameter.size())"
   ],
   "outputs": [
    {
     "name": "stdout",
     "output_type": "stream",
     "text": [
      "hidden1.weight Parameter containing:\n",
      "tensor([[-1.7906e-02, -2.7132e-02, -1.5420e-02,  ...,  8.4504e-03,\n",
      "         -3.1428e-02, -1.4126e-02],\n",
      "        [ 3.2337e-02, -1.1683e-02,  1.0460e-02,  ...,  9.9219e-03,\n",
      "         -5.9418e-06, -3.5078e-02],\n",
      "        [ 1.7009e-02, -2.6369e-02,  9.4181e-03,  ...,  1.8662e-02,\n",
      "          1.7380e-02,  5.0159e-04],\n",
      "        ...,\n",
      "        [ 1.3711e-02, -3.2325e-02, -1.2599e-02,  ...,  2.6296e-02,\n",
      "          3.4836e-02, -1.6863e-02],\n",
      "        [-6.0423e-03,  3.2004e-02,  1.5382e-03,  ...,  2.4837e-02,\n",
      "          2.6973e-02, -2.7640e-02],\n",
      "        [-3.2945e-02,  7.2541e-03,  1.4811e-02,  ..., -1.3387e-02,\n",
      "         -1.5132e-02,  2.7999e-02]], requires_grad=True) torch.Size([128, 784])\n",
      "hidden1.bias Parameter containing:\n",
      "tensor([ 6.1110e-03, -1.8698e-02, -1.9365e-02, -2.4203e-02,  2.1168e-02,\n",
      "         1.1775e-02, -7.7508e-03,  2.1569e-02, -2.8920e-02, -2.0105e-02,\n",
      "        -2.6301e-02,  3.0967e-02,  2.5004e-03,  1.7047e-02,  2.7886e-02,\n",
      "        -4.1679e-03, -2.6320e-02,  6.7867e-03, -4.2890e-03,  2.9808e-02,\n",
      "        -1.3981e-02,  1.7896e-02, -1.3486e-06,  3.5651e-02, -1.6708e-02,\n",
      "         3.7831e-03,  9.3338e-03,  1.3840e-02, -5.0262e-03,  8.0453e-03,\n",
      "         1.0430e-02,  3.4115e-02, -6.9005e-03, -1.8516e-03, -3.9368e-03,\n",
      "         3.0074e-02,  1.3290e-03, -2.8571e-02,  3.4715e-03,  1.0802e-03,\n",
      "        -1.9426e-02, -2.6854e-02,  7.6883e-03, -2.6587e-02, -2.0839e-03,\n",
      "         7.7622e-03,  3.3045e-02,  2.9975e-02, -1.8792e-02,  1.3879e-02,\n",
      "         2.2285e-02, -2.0842e-02,  1.4833e-02,  1.8814e-02, -2.4773e-02,\n",
      "        -2.3391e-02,  2.7900e-02, -1.0972e-02,  3.3491e-04, -3.3919e-02,\n",
      "        -2.6075e-02,  8.1062e-03,  2.4007e-02, -3.4911e-02, -1.9563e-02,\n",
      "        -1.6870e-02, -2.0111e-02, -2.3667e-02,  1.1903e-02,  3.8393e-03,\n",
      "         2.7420e-02, -3.2340e-02,  2.5466e-02,  6.0217e-04, -3.1577e-02,\n",
      "         1.9548e-02,  3.6528e-03, -2.0480e-02, -1.6029e-02,  2.8380e-02,\n",
      "         1.9566e-02,  1.4705e-02,  1.7513e-02,  2.5482e-02, -1.7197e-02,\n",
      "         1.0534e-02, -3.7244e-03,  3.4637e-02, -3.0885e-02,  1.5726e-02,\n",
      "         3.1273e-02,  2.0443e-02,  1.6107e-02,  1.5716e-02, -1.7647e-02,\n",
      "         2.8919e-02,  6.3513e-03, -2.9392e-02,  3.0798e-02,  8.6504e-03,\n",
      "        -1.8987e-02, -1.3198e-02, -9.6689e-03, -1.4028e-04,  1.5249e-02,\n",
      "        -1.6631e-02, -2.6177e-02, -2.7045e-02, -4.8803e-03, -2.8769e-02,\n",
      "        -3.5087e-02,  2.2500e-02,  1.7224e-03,  2.2455e-02,  8.5215e-04,\n",
      "        -8.8218e-03,  2.7473e-02,  3.5125e-02,  3.3514e-02,  2.4664e-03,\n",
      "        -3.2935e-02,  1.6354e-02,  8.8032e-03, -2.3680e-02, -3.3866e-02,\n",
      "         6.2518e-03,  2.6694e-02, -2.9214e-02], requires_grad=True) torch.Size([128])\n",
      "hidden2.weight Parameter containing:\n",
      "tensor([[ 0.0105,  0.0054, -0.0326,  ...,  0.0292,  0.0406, -0.0613],\n",
      "        [ 0.0431,  0.0239, -0.0744,  ...,  0.0280,  0.0735,  0.0699],\n",
      "        [ 0.0006, -0.0484, -0.0550,  ..., -0.0795,  0.0273,  0.0105],\n",
      "        ...,\n",
      "        [-0.0553, -0.0785,  0.0143,  ..., -0.0675,  0.0622, -0.0792],\n",
      "        [ 0.0395, -0.0005, -0.0192,  ..., -0.0424, -0.0383,  0.0019],\n",
      "        [ 0.0883, -0.0509,  0.0759,  ..., -0.0325,  0.0635, -0.0720]],\n",
      "       requires_grad=True) torch.Size([256, 128])\n",
      "hidden2.bias Parameter containing:\n",
      "tensor([ 0.0239, -0.0159, -0.0337,  0.0204, -0.0421, -0.0285,  0.0778,  0.0602,\n",
      "        -0.0615,  0.0683,  0.0384, -0.0824,  0.0353, -0.0559, -0.0812, -0.0266,\n",
      "        -0.0322, -0.0147, -0.0556,  0.0211, -0.0028,  0.0844, -0.0160,  0.0294,\n",
      "         0.0136, -0.0450, -0.0275, -0.0571, -0.0531, -0.0665,  0.0812,  0.0729,\n",
      "         0.0110, -0.0006,  0.0019,  0.0748, -0.0244,  0.0632, -0.0856,  0.0200,\n",
      "        -0.0483, -0.0663,  0.0544,  0.0449,  0.0646,  0.0532, -0.0646, -0.0446,\n",
      "         0.0562,  0.0343, -0.0806,  0.0455,  0.0067,  0.0117, -0.0441,  0.0532,\n",
      "         0.0439,  0.0154, -0.0796, -0.0364, -0.0312, -0.0069,  0.0730, -0.0205,\n",
      "         0.0839, -0.0758,  0.0176, -0.0394,  0.0871,  0.0272,  0.0359,  0.0875,\n",
      "        -0.0300, -0.0187,  0.0373, -0.0730,  0.0492,  0.0446,  0.0218, -0.0080,\n",
      "         0.0574,  0.0045,  0.0272,  0.0528, -0.0680, -0.0602,  0.0241, -0.0160,\n",
      "        -0.0217,  0.0494,  0.0136,  0.0291,  0.0401, -0.0613,  0.0719,  0.0071,\n",
      "        -0.0464, -0.0228,  0.0749,  0.0095,  0.0214, -0.0807, -0.0170, -0.0539,\n",
      "         0.0504,  0.0164, -0.0658, -0.0794,  0.0456, -0.0217,  0.0866, -0.0747,\n",
      "         0.0058,  0.0841,  0.0835, -0.0125, -0.0154,  0.0011,  0.0086, -0.0756,\n",
      "        -0.0829,  0.0762, -0.0264, -0.0027,  0.0438,  0.0084,  0.0312, -0.0269,\n",
      "         0.0688,  0.0792,  0.0441,  0.0115,  0.0328,  0.0794, -0.0191,  0.0782,\n",
      "         0.0130,  0.0743, -0.0670, -0.0012,  0.0034,  0.0428, -0.0206, -0.0584,\n",
      "         0.0863, -0.0051, -0.0712, -0.0103,  0.0704, -0.0006,  0.0284,  0.0077,\n",
      "         0.0623, -0.0781, -0.0577,  0.0173, -0.0613,  0.0088, -0.0226, -0.0232,\n",
      "         0.0634,  0.0853, -0.0157,  0.0238,  0.0767, -0.0303,  0.0699,  0.0687,\n",
      "        -0.0787, -0.0160, -0.0542,  0.0778, -0.0335, -0.0127,  0.0831, -0.0413,\n",
      "        -0.0832, -0.0400,  0.0187,  0.0011,  0.0323,  0.0488,  0.0843, -0.0858,\n",
      "         0.0461, -0.0454,  0.0370, -0.0327, -0.0265, -0.0684, -0.0584,  0.0202,\n",
      "         0.0023, -0.0314,  0.0184,  0.0694,  0.0568, -0.0268,  0.0154,  0.0683,\n",
      "        -0.0558, -0.0108, -0.0539,  0.0032, -0.0575,  0.0566,  0.0031,  0.0865,\n",
      "         0.0717,  0.0828,  0.0066, -0.0323,  0.0726,  0.0719, -0.0539, -0.0783,\n",
      "         0.0555,  0.0482,  0.0062, -0.0602, -0.0024,  0.0823,  0.0605,  0.0693,\n",
      "         0.0243, -0.0473,  0.0421, -0.0122,  0.0115, -0.0779, -0.0872,  0.0017,\n",
      "        -0.0860, -0.0204,  0.0527, -0.0563, -0.0240, -0.0880, -0.0221,  0.0304,\n",
      "        -0.0180,  0.0038,  0.0796, -0.0643,  0.0856,  0.0669,  0.0698, -0.0347,\n",
      "         0.0544, -0.0389, -0.0133, -0.0213, -0.0789, -0.0305,  0.0748,  0.0131],\n",
      "       requires_grad=True) torch.Size([256])\n",
      "out.weight Parameter containing:\n",
      "tensor([[-0.0489,  0.0094, -0.0390,  ...,  0.0131,  0.0231,  0.0391],\n",
      "        [ 0.0554, -0.0388,  0.0227,  ...,  0.0444, -0.0401, -0.0453],\n",
      "        [ 0.0453, -0.0482, -0.0600,  ..., -0.0059,  0.0044,  0.0438],\n",
      "        ...,\n",
      "        [ 0.0315,  0.0003, -0.0499,  ...,  0.0500,  0.0007,  0.0275],\n",
      "        [-0.0012,  0.0291, -0.0246,  ..., -0.0197, -0.0068,  0.0616],\n",
      "        [ 0.0476, -0.0235,  0.0566,  ..., -0.0491,  0.0159, -0.0230]],\n",
      "       requires_grad=True) torch.Size([10, 256])\n",
      "out.bias Parameter containing:\n",
      "tensor([-0.0188,  0.0221,  0.0135, -0.0073, -0.0442, -0.0335, -0.0105, -0.0227,\n",
      "         0.0068, -0.0512], requires_grad=True) torch.Size([10])\n"
     ]
    }
   ],
   "execution_count": 80
  },
  {
   "metadata": {
    "ExecuteTime": {
     "end_time": "2025-04-03T10:09:11.815723Z",
     "start_time": "2025-04-03T10:09:11.811721Z"
    }
   },
   "cell_type": "code",
   "source": [
    "#使用TensorDataset 和DataLoader简化\n",
    "from torch.utils.data import DataLoader\n",
    "from torch.utils.data import TensorDataset\n",
    "\n",
    "#TensorDataset 将多个张量组合成数据集对象(Dataset对象)\n",
    "train_ds = TensorDataset(x_train, y_train)\n",
    "#DataLoader 生成批训练数据，将Dataset对象按批次加载，支持自动分批，打乱数据，多线程加载,是训练循环中数据供应的管道\n",
    "train_d1 = DataLoader(train_ds, batch_size=bs, shuffle=True, num_workers=2)\n",
    "\n",
    "valid_ds = TensorDataset(x_valid, y_valid)\n",
    "valid_d1 = DataLoader(valid_ds, batch_size=bs)"
   ],
   "outputs": [],
   "execution_count": 81
  },
  {
   "metadata": {
    "ExecuteTime": {
     "end_time": "2025-04-03T10:09:11.824143Z",
     "start_time": "2025-04-03T10:09:11.816724Z"
    }
   },
   "cell_type": "code",
   "source": [
    "print(train_ds.tensors)\n",
    "print(train_d1)"
   ],
   "outputs": [
    {
     "name": "stdout",
     "output_type": "stream",
     "text": [
      "(tensor([[0., 0., 0.,  ..., 0., 0., 0.],\n",
      "        [0., 0., 0.,  ..., 0., 0., 0.],\n",
      "        [0., 0., 0.,  ..., 0., 0., 0.],\n",
      "        ...,\n",
      "        [0., 0., 0.,  ..., 0., 0., 0.],\n",
      "        [0., 0., 0.,  ..., 0., 0., 0.],\n",
      "        [0., 0., 0.,  ..., 0., 0., 0.]]), tensor([5, 0, 4,  ..., 8, 4, 8]))\n",
      "<torch.utils.data.dataloader.DataLoader object at 0x00000270CF4B0450>\n"
     ]
    }
   ],
   "execution_count": 82
  },
  {
   "metadata": {
    "ExecuteTime": {
     "end_time": "2025-04-03T10:09:11.829149Z",
     "start_time": "2025-04-03T10:09:11.825153Z"
    }
   },
   "cell_type": "code",
   "source": [
    "def get_data(train_ds, valid_ds, bs):\n",
    "    return (\n",
    "        DataLoader(train_ds, batch_size=bs, shuffle=True),\n",
    "        DataLoader(valid_ds, batch_size=bs * 2, shuffle=True)\n",
    "    )"
   ],
   "outputs": [],
   "execution_count": 83
  },
  {
   "metadata": {
    "ExecuteTime": {
     "end_time": "2025-04-03T10:19:40.186515Z",
     "start_time": "2025-04-03T10:19:40.181516Z"
    }
   },
   "cell_type": "code",
   "source": [
    "import numpy as np\n",
    "\n",
    "\n",
    "def fit(steps, model, loss_func, opt, train_dl, valid_dl):\n",
    "    for step in range(steps):\n",
    "        #切换到训练模式,训练模式下 会\n",
    "        #1.启用Dropout层，会按照指定p随机丢弃部分神经元 防止过拟合\n",
    "        #2 BatchNorm层，会使用当前批次的均值和方差做归一化，并更新统计量(running_mean和running_var)\n",
    "        model.train()\n",
    "        for xb, yb in train_dl:\n",
    "            loss_batch(model, loss_func, xb, yb, opt)\n",
    "\n",
    "        #预测模式\n",
    "        model.eval()\n",
    "        #with torch.no_grad 临时禁用梯度计算 再验证，测试，预测阶段，无需反向传播，不需计算梯度，禁用后可以提升效率\n",
    "        with torch.no_grad():\n",
    "            losses, nums = zip(\n",
    "                #这里不需要传递opt进行参数学习，传递了会由于当前是no_grad模式而报错  element 0 of tensors does not require grad and does not have a grad_fn\n",
    "                *[loss_batch(model, loss_func, x, y) for x, y in valid_dl]\n",
    "            )\n",
    "        #计算平均损失    \n",
    "        #加入三次损失各是0.8，0.6，0.4，三次数据大小各是 64，64，32\n",
    "        #计算平均损失的方法:total_loss = (0.8*64 + 0.6*64 + 0.4*32) / (64+64+32)\n",
    "        val_loss = np.sum(np.multiply(losses, nums)) / np.sum(nums)\n",
    "        print('当前step' + str(step), '验证集损失: ', val_loss)"
   ],
   "outputs": [],
   "execution_count": 114
  },
  {
   "metadata": {},
   "cell_type": "markdown",
   "source": [
    "    losses, nums = zip(\n",
    "                *[loss_batch(model, loss_func, x, y, opt) for x, y in valid_dl]\n",
    "            )\n",
    "功能说明\n",
    "快速计算验证集中所有批次的损失，并分离损失值/样本数\n",
    "\n",
    "关键步骤\n",
    "遍历批次：\n",
    "[loss_batch(...) for x,y in valid_dl]\n",
    "→ 生成 [(loss1, num1), (loss2, num2)...]\n",
    "\n",
    "解包重组：\n",
    "zip(*[...])\n",
    "→ 将元组列表转换为 (losses_tuple, nums_tuple)\n",
    "\n",
    "结果赋值：\n",
    "→ losses：所有批次的损失值元组\n",
    "→ nums：所有批次的样本数元组\n",
    "\n",
    "典型应用\n",
    "python\n",
    "复制\n",
    "# 计算加权平均损失\n",
    "avg_loss = sum(l * n for l,n in zip(losses, nums)) / sum(nums)\n",
    "输出示例\n",
    "losses = (0.32, 0.28, 0.41)\n",
    "nums = (64, 64, 32) → 总样本数 160"
   ]
  },
  {
   "metadata": {},
   "cell_type": "markdown",
   "source": ""
  },
  {
   "metadata": {
    "ExecuteTime": {
     "end_time": "2025-04-03T10:16:33.129555Z",
     "start_time": "2025-04-03T10:16:33.121469Z"
    }
   },
   "cell_type": "code",
   "source": [
    "def loss_batch(model, loss_func, xb, yb, opt=None):\n",
    "    #损失计算方法基于预测值和标签值\n",
    "    loss = loss_func(model(xb), yb)\n",
    "    #优化器 反向传播与参数更新\n",
    "    if opt is not None:\n",
    "        #计算梯度(反向传播)\n",
    "        loss.backward()\n",
    "        #更新模型参数(仅更新标记需要更新的参数)\n",
    "        opt.step()\n",
    "        #梯度清空，避免累计\n",
    "        opt.zero_grad()\n",
    "    #loss.item()将损失从张量转换为python浮点数，len为当前批次的样本数量，虽然设置64一批次，但可能数据不足时会低于64\n",
    "    return loss.item(), len(xb)\n"
   ],
   "outputs": [],
   "execution_count": 108
  },
  {
   "metadata": {},
   "cell_type": "code",
   "source": [
    "from torch import optim\n",
    "\n",
    "def get_model():\n",
    "    model = Net()\n",
    "    #optim.SGD 随机梯度下降（SGD） model.parameters 需要训练的参数(权重,偏置)，lr 学习率 \n",
    "    return model, optim.SGD(model.parameters(), lr=0.001)"
   ],
   "outputs": [],
   "execution_count": 86
  },
  {
   "metadata": {
    "ExecuteTime": {
     "end_time": "2025-04-03T10:20:33.251462Z",
     "start_time": "2025-04-03T10:19:43.967677Z"
    }
   },
   "cell_type": "code",
   "source": [
    "train_dl,valid_dl=get_data(train_ds, valid_ds, bs)\n",
    "model,opt=get_model()\n",
    "fit(25,model,loss_func,opt,train_dl,valid_dl)"
   ],
   "outputs": [
    {
     "name": "stdout",
     "output_type": "stream",
     "text": [
      "当前step0 验证集损失:  2.279741432189941\n",
      "当前step1 验证集损失:  2.246731374359131\n",
      "当前step2 验证集损失:  2.1922055141448973\n",
      "当前step3 验证集损失:  2.1010790191650393\n",
      "当前step4 验证集损失:  1.9565008152008057\n",
      "当前step5 验证集损失:  1.7452244747161865\n",
      "当前step6 验证集损失:  1.483807622718811\n",
      "当前step7 验证集损失:  1.228487015914917\n",
      "当前step8 验证集损失:  1.0222397081375123\n",
      "当前step9 验证集损失:  0.8694234760284424\n",
      "当前step10 验证集损失:  0.7583453384399415\n",
      "当前step11 验证集损失:  0.6771698937416076\n",
      "当前step12 验证集损失:  0.6158935648918152\n",
      "当前step13 验证集损失:  0.569078995513916\n",
      "当前step14 验证集损失:  0.5322226259231567\n",
      "当前step15 验证集损失:  0.5027647064208984\n",
      "当前step16 验证集损失:  0.47891981739997863\n",
      "当前step17 验证集损失:  0.4584455547809601\n",
      "当前step18 验证集损失:  0.4417563949584961\n",
      "当前step19 验证集损失:  0.4274991028308868\n",
      "当前step20 验证集损失:  0.41456771824359895\n",
      "当前step21 验证集损失:  0.40387819423675536\n",
      "当前step22 验证集损失:  0.39397630615234375\n",
      "当前step23 验证集损失:  0.3854663252830505\n",
      "当前step24 验证集损失:  0.3776231855392456\n"
     ]
    }
   ],
   "execution_count": 115
  }
 ],
 "metadata": {
  "kernelspec": {
   "display_name": "Python 3",
   "language": "python",
   "name": "python3"
  },
  "language_info": {
   "codemirror_mode": {
    "name": "ipython",
    "version": 2
   },
   "file_extension": ".py",
   "mimetype": "text/x-python",
   "name": "python",
   "nbconvert_exporter": "python",
   "pygments_lexer": "ipython2",
   "version": "2.7.6"
  }
 },
 "nbformat": 4,
 "nbformat_minor": 0
}
