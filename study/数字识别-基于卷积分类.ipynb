{
 "cells": [
  {
   "cell_type": "code",
   "execution_count": 57,
   "metadata": {
    "collapsed": true,
    "ExecuteTime": {
     "start_time": "2025-04-06T01:40:38.722372Z",
     "end_time": "2025-04-06T01:40:38.725132Z"
    }
   },
   "outputs": [],
   "source": [
    "import torch\n",
    "import torch.nn as nn\n",
    "import torch.optim as optim\n",
    "import torch.nn.functional as F\n",
    "from torchvision import datasets, transforms\n",
    "import matplotlib.pyplot as plt\n",
    "import numpy as np"
   ]
  },
  {
   "cell_type": "code",
   "execution_count": 58,
   "outputs": [],
   "source": [
    "#定义超参数\n",
    "input_size = 28  #图像尺寸\n",
    "num_class = 10  #分类种数\n",
    "num_epochs = 3  #训练总循环周期\n",
    "batch_size = 64  #一批数据大小，64张图\n",
    "#训练集\n",
    "train_dataset = datasets.MNIST(root='./data', train=True, transform=transforms.ToTensor(), download=True)\n",
    "#测试集\n",
    "test_dataset = datasets.MNIST(root='./data',\n",
    "                              train=False,\n",
    "                              transform=transforms.ToTensor())"
   ],
   "metadata": {
    "collapsed": false,
    "ExecuteTime": {
     "start_time": "2025-04-06T01:40:38.726272Z",
     "end_time": "2025-04-06T01:40:38.767679Z"
    }
   }
  },
  {
   "cell_type": "code",
   "execution_count": 59,
   "outputs": [],
   "source": [
    "#构造batch数据\n",
    "train_loader = torch.utils.data.DataLoader(dataset=train_dataset, batch_size=batch_size, shuffle=True)\n",
    "test_loader = torch.utils.data.DataLoader(dataset=test_dataset, batch_size=batch_size, shuffle=True)"
   ],
   "metadata": {
    "collapsed": false,
    "ExecuteTime": {
     "start_time": "2025-04-06T01:40:38.752318Z",
     "end_time": "2025-04-06T01:40:38.773470Z"
    }
   }
  },
  {
   "cell_type": "markdown",
   "source": [
    "- 一搬卷积层，relu层，池化层可以写成一个组合\n",
    "- 注意卷积结果还是一个特征图，需要转换成向量才可以做分类或者回归任务"
   ],
   "metadata": {
    "collapsed": false
   }
  },
  {
   "cell_type": "code",
   "execution_count": 60,
   "outputs": [],
   "source": [
    "class CNN(nn.Module):\n",
    "    def __init__(self):\n",
    "        super(CNN, self).__init__()\n",
    "        self.conv1 = nn.Sequential(  #输入的图像 1*28*28 1代表颜色通道，这里用灰度图所以是1\n",
    "            nn.Conv2d(  #图片，所以是2d\n",
    "                in_channels=1,  #灰度图\n",
    "                out_channels=16,  #要得到的特征图的个数，也代表卷积核的个数 输出特征为 (16,28,28)即16个28*28\n",
    "                kernel_size=5,  #卷积核大小，\n",
    "                stride=1,  #卷积移动步长\n",
    "                padding=2,  # 如果希望卷积后大小跟原来一样，需要设置padding=(kernel_size-1)/2 if stride=1， 通常卷积核大小和padding设置 5->2,3,->1\n",
    "            ),\n",
    "            nn.ReLU(),\n",
    "            nn.MaxPool2d(kernel_size=2),  #池化层操作，2代表减小一半 输出为(16,14,14)\n",
    "        )\n",
    "        self.conv2 = nn.Sequential(\n",
    "            nn.Conv2d(16, 32, 5, 1, 2),  #输入(16,14,14) 输出(32,14,14)\n",
    "            nn.ReLU(),\n",
    "            nn.Conv2d(32, 32, 5, 1, 2),  #输入(32,14,14)\n",
    "            nn.ReLU(),\n",
    "            nn.MaxPool2d(2),  #输出(32,7,7)\n",
    "        )\n",
    "        self.conv3 = nn.Sequential(\n",
    "            nn.Conv2d(32, 64, 5, 1, 2),  #输出(64,7,7)\n",
    "            nn.ReLU(),\n",
    "        )\n",
    "        self.out = nn.Linear(64 * 7 * 7, 10)  #通过全连接成，转换为wx+b所需要的权重格式，才能对特征图进行预测或分类\n",
    "\n",
    "    def forward(self, x):\n",
    "        x = self.conv1(x)\n",
    "        x = self.conv2(x)\n",
    "        x = self.conv3(x)\n",
    "        x = x.view(x.size(0), -1)  # flatter操作，得到一个视图，原来size是batch_size,64,64,7,结果为batch_size,64*7*7\n",
    "        out = self.out(x)\n",
    "        return out"
   ],
   "metadata": {
    "collapsed": false,
    "ExecuteTime": {
     "start_time": "2025-04-06T01:40:38.760171Z",
     "end_time": "2025-04-06T01:40:38.773663Z"
    }
   }
  },
  {
   "cell_type": "code",
   "execution_count": 61,
   "outputs": [],
   "source": [
    "def accuracy(predictions, labels):\n",
    "    pred = torch.max(predictions.data, dim=1)[1]  #[0]为值，【1】为索引，等同于数字0-9  dim 在每行的所有列中找最大值，即多个样本预测最高分的\n",
    "    right = pred.eq(labels.data.view_as(pred)).sum() #view_as(tensor)：将当前张量的形状调整为与 tensor 相同。\n",
    "    return right, len(labels)  #计算准确率使用"
   ],
   "metadata": {
    "collapsed": false,
    "ExecuteTime": {
     "start_time": "2025-04-06T01:40:38.763479Z",
     "end_time": "2025-04-06T01:40:38.773699Z"
    }
   }
  },
  {
   "cell_type": "code",
   "execution_count": null,
   "outputs": [
    {
     "name": "stdout",
     "output_type": "stream",
     "text": [
      "当前epoch: 0 [0/60000 (0%)]\t损失: 2.304124\t训练集准确率: 6.25%\t测试集正确率: 10.00%\n",
      "当前epoch: 0 [6400/60000 (11%)]\t损失: 0.529631\t训练集准确率: 77.95%\t测试集正确率: 93.04%\n",
      "当前epoch: 0 [12800/60000 (21%)]\t损失: 0.175462\t训练集准确率: 86.33%\t测试集正确率: 96.78%\n",
      "当前epoch: 0 [19200/60000 (32%)]\t损失: 0.051850\t训练集准确率: 89.61%\t测试集正确率: 97.42%\n",
      "当前epoch: 0 [25600/60000 (43%)]\t损失: 0.085572\t训练集准确率: 91.50%\t测试集正确率: 97.91%\n",
      "当前epoch: 0 [32000/60000 (53%)]\t损失: 0.089012\t训练集准确率: 92.67%\t测试集正确率: 96.96%\n",
      "当前epoch: 0 [38400/60000 (64%)]\t损失: 0.007912\t训练集准确率: 93.49%\t测试集正确率: 98.17%\n",
      "当前epoch: 0 [44800/60000 (75%)]\t损失: 0.030787\t训练集准确率: 94.07%\t测试集正确率: 98.41%\n",
      "当前epoch: 0 [51200/60000 (85%)]\t损失: 0.017662\t训练集准确率: 94.58%\t测试集正确率: 98.55%\n",
      "当前epoch: 0 [57600/60000 (96%)]\t损失: 0.054747\t训练集准确率: 94.98%\t测试集正确率: 98.43%\n",
      "当前epoch: 1 [0/60000 (0%)]\t损失: 0.011451\t训练集准确率: 100.00%\t测试集正确率: 98.38%\n",
      "当前epoch: 1 [6400/60000 (11%)]\t损失: 0.017642\t训练集准确率: 98.50%\t测试集正确率: 98.50%\n",
      "当前epoch: 1 [12800/60000 (21%)]\t损失: 0.013514\t训练集准确率: 98.52%\t测试集正确率: 98.92%\n",
      "当前epoch: 1 [19200/60000 (32%)]\t损失: 0.009455\t训练集准确率: 98.58%\t测试集正确率: 98.39%\n",
      "当前epoch: 1 [25600/60000 (43%)]\t损失: 0.042502\t训练集准确率: 98.57%\t测试集正确率: 98.57%\n",
      "当前epoch: 1 [32000/60000 (53%)]\t损失: 0.020982\t训练集准确率: 98.60%\t测试集正确率: 98.86%\n",
      "当前epoch: 1 [38400/60000 (64%)]\t损失: 0.021015\t训练集准确率: 98.60%\t测试集正确率: 98.97%\n",
      "当前epoch: 1 [44800/60000 (75%)]\t损失: 0.095113\t训练集准确率: 98.64%\t测试集正确率: 98.99%\n",
      "当前epoch: 1 [51200/60000 (85%)]\t损失: 0.001072\t训练集准确率: 98.63%\t测试集正确率: 98.73%\n",
      "当前epoch: 1 [57600/60000 (96%)]\t损失: 0.009767\t训练集准确率: 98.65%\t测试集正确率: 98.71%\n",
      "当前epoch: 2 [0/60000 (0%)]\t损失: 0.040965\t训练集准确率: 98.44%\t测试集正确率: 98.46%\n",
      "当前epoch: 2 [6400/60000 (11%)]\t损失: 0.019689\t训练集准确率: 99.32%\t测试集正确率: 98.98%\n"
     ]
    }
   ],
   "source": [
    "#训练网络模型\n",
    "net = CNN()\n",
    "criterion = nn.CrossEntropyLoss()  #损失函数\n",
    "#优化器\n",
    "opt = optim.Adam(net.parameters(), lr=0.001)  #定义优化器,普通的随机梯度下降算法\n",
    "# 开始训练\n",
    "for epoch in range(num_epochs): #损失函数的优化是一个迭代过程，需要多次遍历数据以逼近最优解。例如，随机梯度下降（SGD）需要多轮更新才能收敛。\n",
    "    train_rights = []\n",
    "    for batch_idx, (data, target) in enumerate(train_loader):  #针对容器中的每一个批次进行循环\n",
    "        net.train()\n",
    "        output = net(data)\n",
    "        loss = criterion(output, target)\n",
    "        opt.zero_grad()\n",
    "        loss.backward()\n",
    "        opt.step()\n",
    "        right = accuracy(output, target)\n",
    "        train_rights.append(right)\n",
    "\n",
    "        if batch_idx % 100 == 0:\n",
    "            net.eval()\n",
    "            val_rights = []\n",
    "\n",
    "            for (data, target) in test_loader:\n",
    "                output = net(data)\n",
    "                right = accuracy(output, target)\n",
    "                val_rights.append(right)\n",
    "\n",
    "            train_r = (sum([tup[0] for tup in train_rights]), sum([tup[1] for tup in train_rights]))\n",
    "            val_r = (sum([tup[0] for tup in val_rights]), sum([tup[1] for tup in val_rights]))\n",
    "\n",
    "            print('当前epoch: {} [{}/{} ({:.0f}%)]\\t损失: {:.6f}\\t训练集准确率: {:.2f}%\\t测试集正确率: {:.2f}%'.format(\n",
    "                epoch, batch_idx * batch_size, len(train_loader.dataset),\n",
    "                100. * batch_idx / len(train_loader),\n",
    "                loss.data,\n",
    "                100. * train_r[0].numpy() / train_r[1],\n",
    "                100. * val_r[0].numpy() / val_r[1]))\n"
   ],
   "metadata": {
    "collapsed": false,
    "ExecuteTime": {
     "start_time": "2025-04-06T01:33:51.757335Z",
     "end_time": "2025-04-06T01:39:45.005945Z"
    },
    "pycharm": {
     "is_executing": true
    }
   }
  }
 ],
 "metadata": {
  "kernelspec": {
   "display_name": "Python 3",
   "language": "python",
   "name": "python3"
  },
  "language_info": {
   "codemirror_mode": {
    "name": "ipython",
    "version": 2
   },
   "file_extension": ".py",
   "mimetype": "text/x-python",
   "name": "python",
   "nbconvert_exporter": "python",
   "pygments_lexer": "ipython2",
   "version": "2.7.6"
  }
 },
 "nbformat": 4,
 "nbformat_minor": 0
}
