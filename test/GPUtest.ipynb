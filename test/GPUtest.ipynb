{
 "cells": [
  {
   "cell_type": "code",
   "metadata": {
    "collapsed": true,
    "ExecuteTime": {
     "start_time": "2025-04-06T23:21:18.823158Z",
     "end_time": "2025-04-06T23:21:20.392809Z"
    }
   },
   "source": [
    "import torch\n",
    "from torch import nn\n",
    "\n",
    "# 打印PyTorch版本\n",
    "# 检查PyTorch版本\n",
    "print(torch.__version__)\n",
    "print(torch.backends.mps.is_available())\n",
    "print(torch.backends.mps.is_built())\n",
    "# 创建一个随机张量\n",
    "device = torch.device('mps')# 指定使用MPS设备\n",
    "#num_devices = torch.mps.device_count()\n",
    "#print(\"Number of MPS devices:\",num_devices)\n",
    "N = 100000000\n",
    "cpu_a = torch.rand([1, N])\n",
    "cpu_b = torch.rand([N, 1])\n",
    "print(N,cpu_a.device,cpu_b.device)\n",
    "\n",
    "gpu_a = torch.rand([1, N],device=device)\n",
    "gpu_b = torch.rand([N, 1],device='mps')\n",
    "print(N,gpu_a.device,gpu_b.device)\n",
    "\n",
    "\n",
    "def cpu_run():\n",
    "    c = torch.mm(cpu_a, cpu_b)\n",
    "    return c\n",
    "\n",
    "def gpu_run():\n",
    "    c = torch.mm(gpu_a, gpu_b)\n",
    "    return c\n",
    "\n",
    "import timeit\n",
    "\n",
    "cpu_time = timeit.timeit(cpu_run, number=2)# 计时CPU版本\n",
    "gpu_time = timeit.timeit(gpu_run, number=2)# 计时GPU版本\n",
    "print(\"run time1:\", cpu_time,gpu_time)\n",
    "\n",
    "cpu_time = timeit.timeit(cpu_run, number=2)\n",
    "gpu_time = timeit.timeit(gpu_run, number=2)\n",
    "print(\"run time2:\", cpu_time,gpu_time)\n",
    "\n"
   ],
   "outputs": [
    {
     "name": "stdout",
     "output_type": "stream",
     "text": [
      "2.6.0\n",
      "True\n",
      "True\n",
      "100000000 cpu cpu\n",
      "100000000 mps:0 mps:0\n",
      "run time1: 0.518881999887526 0.004284875001758337\n",
      "run time2: 0.1302859582938254 3.6875251680612564e-05\n"
     ]
    }
   ],
   "execution_count": 1
  },
  {
   "metadata": {
    "ExecuteTime": {
     "end_time": "2025-04-10T08:22:49.551953Z",
     "start_time": "2025-04-10T08:22:45.541475Z"
    }
   },
   "cell_type": "code",
   "source": [
    "import torch\n",
    "print(torch.cuda.is_available())  # 返回True表示GPU可用‌:ml-citation{ref=\"1,3\" data=\"citationList\"}\n",
    "print(torch.cuda.device_count())  # 显示可用GPU数量‌:ml-citation{ref=\"2,4\" data=\"citationList\"}\n",
    "print(torch.cuda.get_device_name(0))  # 显示第一个GPU的名称‌:ml-citation{ref=\"3,4\" data=\"citationList\"}"
   ],
   "outputs": [
    {
     "name": "stdout",
     "output_type": "stream",
     "text": [
      "True\n",
      "1\n",
      "NVIDIA GeForce GTX 1060 6GB\n"
     ]
    }
   ],
   "execution_count": 1
  },
  {
   "metadata": {
    "ExecuteTime": {
     "end_time": "2025-04-11T02:34:58.677715Z",
     "start_time": "2025-04-11T02:33:35.037498Z"
    }
   },
   "cell_type": "code",
   "source": "",
   "outputs": [
    {
     "name": "stdout",
     "output_type": "stream",
     "text": [
      "^C\n",
      "Note: you may need to restart the kernel to use updated packages.\n"
     ]
    }
   ],
   "execution_count": 2
  }
 ],
 "metadata": {
  "kernelspec": {
   "display_name": "Python 3",
   "language": "python",
   "name": "python3"
  },
  "language_info": {
   "codemirror_mode": {
    "name": "ipython",
    "version": 2
   },
   "file_extension": ".py",
   "mimetype": "text/x-python",
   "name": "python",
   "nbconvert_exporter": "python",
   "pygments_lexer": "ipython2",
   "version": "2.7.6"
  }
 },
 "nbformat": 4,
 "nbformat_minor": 0
}
